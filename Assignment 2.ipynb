{
 "cells": [
  {
   "cell_type": "markdown",
   "metadata": {},
   "source": [
    "## Name: Daniel Kojo Afealete Fiadjoe\n",
    "## Student ID: 202291439\n",
    "## Course: DSCI-6601-001 (Pract Machine Learning 77223)\n",
    "## Assignment 2"
   ]
  },
  {
   "cell_type": "markdown",
   "metadata": {},
   "source": [
    "### Question 1"
   ]
  },
  {
   "cell_type": "markdown",
   "metadata": {},
   "source": [
    "#### Import Libraries"
   ]
  },
  {
   "cell_type": "code",
   "execution_count": 1,
   "metadata": {},
   "outputs": [],
   "source": [
    "import numpy as np   \n",
    "import pandas as pd    \n",
    "import matplotlib.pyplot as plt \n",
    "%matplotlib inline \n",
    "\n",
    "# Libraries to split data, create simple linaer regression \n",
    "from sklearn.model_selection import train_test_split\n",
    "from sklearn.linear_model import LinearRegression\n",
    "from sklearn import metrics\n",
    "from sklearn.metrics import mean_squared_error"
   ]
  },
  {
   "cell_type": "markdown",
   "metadata": {},
   "source": [
    "Load the given EPA fuel economy data set into a pandas dataframe. Write code which removes the non-numeric columns from the data frame. Create a new column named “CityHighwayDiff” which is calculated by taking the difference of the “city08” column and “highway08” column. Plot a histogram of this column."
   ]
  },
  {
   "cell_type": "code",
   "execution_count": 2,
   "metadata": {},
   "outputs": [],
   "source": [
    "# Code to load in the  EPA fuel economy data set and show the rows and columns\n",
    "df = pd.read_csv('EPA fuel economy dataset.csv')\n",
    "data = df                                        # duplicate dataframe"
   ]
  },
  {
   "cell_type": "code",
   "execution_count": 3,
   "metadata": {},
   "outputs": [
    {
     "data": {
      "text/html": [
       "<div>\n",
       "<style scoped>\n",
       "    .dataframe tbody tr th:only-of-type {\n",
       "        vertical-align: middle;\n",
       "    }\n",
       "\n",
       "    .dataframe tbody tr th {\n",
       "        vertical-align: top;\n",
       "    }\n",
       "\n",
       "    .dataframe thead th {\n",
       "        text-align: right;\n",
       "    }\n",
       "</style>\n",
       "<table border=\"1\" class=\"dataframe\">\n",
       "  <thead>\n",
       "    <tr style=\"text-align: right;\">\n",
       "      <th></th>\n",
       "      <th>city08</th>\n",
       "      <th>cityA08</th>\n",
       "      <th>cylinders</th>\n",
       "      <th>fuelType</th>\n",
       "      <th>fuelType1</th>\n",
       "      <th>highway08</th>\n",
       "      <th>highwayA08</th>\n",
       "      <th>id</th>\n",
       "      <th>make</th>\n",
       "      <th>model</th>\n",
       "      <th>mpgData</th>\n",
       "      <th>trany</th>\n",
       "      <th>year</th>\n",
       "      <th>fuelType2</th>\n",
       "    </tr>\n",
       "  </thead>\n",
       "  <tbody>\n",
       "    <tr>\n",
       "      <th>0</th>\n",
       "      <td>19</td>\n",
       "      <td>0</td>\n",
       "      <td>4</td>\n",
       "      <td>Regular</td>\n",
       "      <td>Regular Gasoline</td>\n",
       "      <td>25</td>\n",
       "      <td>0</td>\n",
       "      <td>1</td>\n",
       "      <td>Alfa Romeo</td>\n",
       "      <td>Spider Veloce 2000</td>\n",
       "      <td>Y</td>\n",
       "      <td>Manual 5-spd</td>\n",
       "      <td>1985</td>\n",
       "      <td>NaN</td>\n",
       "    </tr>\n",
       "    <tr>\n",
       "      <th>1</th>\n",
       "      <td>9</td>\n",
       "      <td>0</td>\n",
       "      <td>12</td>\n",
       "      <td>Regular</td>\n",
       "      <td>Regular Gasoline</td>\n",
       "      <td>14</td>\n",
       "      <td>0</td>\n",
       "      <td>10</td>\n",
       "      <td>Ferrari</td>\n",
       "      <td>Testarossa</td>\n",
       "      <td>N</td>\n",
       "      <td>Manual 5-spd</td>\n",
       "      <td>1985</td>\n",
       "      <td>NaN</td>\n",
       "    </tr>\n",
       "    <tr>\n",
       "      <th>2</th>\n",
       "      <td>23</td>\n",
       "      <td>0</td>\n",
       "      <td>4</td>\n",
       "      <td>Regular</td>\n",
       "      <td>Regular Gasoline</td>\n",
       "      <td>33</td>\n",
       "      <td>0</td>\n",
       "      <td>100</td>\n",
       "      <td>Dodge</td>\n",
       "      <td>Charger</td>\n",
       "      <td>Y</td>\n",
       "      <td>Manual 5-spd</td>\n",
       "      <td>1985</td>\n",
       "      <td>NaN</td>\n",
       "    </tr>\n",
       "    <tr>\n",
       "      <th>3</th>\n",
       "      <td>10</td>\n",
       "      <td>0</td>\n",
       "      <td>8</td>\n",
       "      <td>Regular</td>\n",
       "      <td>Regular Gasoline</td>\n",
       "      <td>12</td>\n",
       "      <td>0</td>\n",
       "      <td>1000</td>\n",
       "      <td>Dodge</td>\n",
       "      <td>B150/B250 Wagon 2WD</td>\n",
       "      <td>N</td>\n",
       "      <td>Automatic 3-spd</td>\n",
       "      <td>1985</td>\n",
       "      <td>NaN</td>\n",
       "    </tr>\n",
       "    <tr>\n",
       "      <th>4</th>\n",
       "      <td>17</td>\n",
       "      <td>0</td>\n",
       "      <td>4</td>\n",
       "      <td>Premium</td>\n",
       "      <td>Premium Gasoline</td>\n",
       "      <td>23</td>\n",
       "      <td>0</td>\n",
       "      <td>10000</td>\n",
       "      <td>Subaru</td>\n",
       "      <td>Legacy AWD Turbo</td>\n",
       "      <td>N</td>\n",
       "      <td>Manual 5-spd</td>\n",
       "      <td>1993</td>\n",
       "      <td>NaN</td>\n",
       "    </tr>\n",
       "  </tbody>\n",
       "</table>\n",
       "</div>"
      ],
      "text/plain": [
       "   city08  cityA08  cylinders fuelType         fuelType1  highway08  \\\n",
       "0      19        0          4  Regular  Regular Gasoline         25   \n",
       "1       9        0         12  Regular  Regular Gasoline         14   \n",
       "2      23        0          4  Regular  Regular Gasoline         33   \n",
       "3      10        0          8  Regular  Regular Gasoline         12   \n",
       "4      17        0          4  Premium  Premium Gasoline         23   \n",
       "\n",
       "   highwayA08     id        make                model mpgData  \\\n",
       "0           0      1  Alfa Romeo   Spider Veloce 2000       Y   \n",
       "1           0     10     Ferrari           Testarossa       N   \n",
       "2           0    100       Dodge              Charger       Y   \n",
       "3           0   1000       Dodge  B150/B250 Wagon 2WD       N   \n",
       "4           0  10000      Subaru     Legacy AWD Turbo       N   \n",
       "\n",
       "             trany  year  fuelType2  \n",
       "0     Manual 5-spd  1985        NaN  \n",
       "1     Manual 5-spd  1985        NaN  \n",
       "2     Manual 5-spd  1985        NaN  \n",
       "3  Automatic 3-spd  1985        NaN  \n",
       "4     Manual 5-spd  1993        NaN  "
      ]
     },
     "execution_count": 3,
     "metadata": {},
     "output_type": "execute_result"
    }
   ],
   "source": [
    "data.head()"
   ]
  },
  {
   "cell_type": "code",
   "execution_count": 4,
   "metadata": {},
   "outputs": [
    {
     "name": "stdout",
     "output_type": "stream",
     "text": [
      "There are 6000 rows and 14 columns.\n"
     ]
    }
   ],
   "source": [
    "# Code to display the number of rows and columns\n",
    "print(f\"There are {data.shape[0]} rows and {data.shape[1]} columns.\")"
   ]
  },
  {
   "cell_type": "code",
   "execution_count": 5,
   "metadata": {},
   "outputs": [
    {
     "name": "stdout",
     "output_type": "stream",
     "text": [
      "<class 'pandas.core.frame.DataFrame'>\n",
      "RangeIndex: 6000 entries, 0 to 5999\n",
      "Data columns (total 14 columns):\n",
      " #   Column      Non-Null Count  Dtype  \n",
      "---  ------      --------------  -----  \n",
      " 0   city08      6000 non-null   int64  \n",
      " 1   cityA08     6000 non-null   int64  \n",
      " 2   cylinders   6000 non-null   int64  \n",
      " 3   fuelType    6000 non-null   object \n",
      " 4   fuelType1   6000 non-null   object \n",
      " 5   highway08   6000 non-null   int64  \n",
      " 6   highwayA08  6000 non-null   int64  \n",
      " 7   id          6000 non-null   int64  \n",
      " 8   make        6000 non-null   object \n",
      " 9   model       6000 non-null   object \n",
      " 10  mpgData     6000 non-null   object \n",
      " 11  trany       6000 non-null   object \n",
      " 12  year        6000 non-null   int64  \n",
      " 13  fuelType2   0 non-null      float64\n",
      "dtypes: float64(1), int64(7), object(6)\n",
      "memory usage: 656.4+ KB\n"
     ]
    }
   ],
   "source": [
    "# Display columns data type.\n",
    "data.info()"
   ]
  },
  {
   "cell_type": "code",
   "execution_count": 6,
   "metadata": {},
   "outputs": [],
   "source": [
    "# Dropping the non-numeric columns.\n",
    "data = data.drop(['fuelType', 'fuelType1', 'make', 'model', 'mpgData', 'trany'], axis = 1)"
   ]
  },
  {
   "cell_type": "code",
   "execution_count": 7,
   "metadata": {},
   "outputs": [
    {
     "name": "stdout",
     "output_type": "stream",
     "text": [
      "<class 'pandas.core.frame.DataFrame'>\n",
      "RangeIndex: 6000 entries, 0 to 5999\n",
      "Data columns (total 8 columns):\n",
      " #   Column      Non-Null Count  Dtype  \n",
      "---  ------      --------------  -----  \n",
      " 0   city08      6000 non-null   int64  \n",
      " 1   cityA08     6000 non-null   int64  \n",
      " 2   cylinders   6000 non-null   int64  \n",
      " 3   highway08   6000 non-null   int64  \n",
      " 4   highwayA08  6000 non-null   int64  \n",
      " 5   id          6000 non-null   int64  \n",
      " 6   year        6000 non-null   int64  \n",
      " 7   fuelType2   0 non-null      float64\n",
      "dtypes: float64(1), int64(7)\n",
      "memory usage: 375.1 KB\n",
      "\n",
      "Confirmation that the non-numeric columns has been removed\n"
     ]
    }
   ],
   "source": [
    "data.info()\n",
    "print()\n",
    "print('Confirmation that the non-numeric columns has been removed')"
   ]
  },
  {
   "cell_type": "code",
   "execution_count": 8,
   "metadata": {},
   "outputs": [
    {
     "data": {
      "text/html": [
       "<div>\n",
       "<style scoped>\n",
       "    .dataframe tbody tr th:only-of-type {\n",
       "        vertical-align: middle;\n",
       "    }\n",
       "\n",
       "    .dataframe tbody tr th {\n",
       "        vertical-align: top;\n",
       "    }\n",
       "\n",
       "    .dataframe thead th {\n",
       "        text-align: right;\n",
       "    }\n",
       "</style>\n",
       "<table border=\"1\" class=\"dataframe\">\n",
       "  <thead>\n",
       "    <tr style=\"text-align: right;\">\n",
       "      <th></th>\n",
       "      <th>city08</th>\n",
       "      <th>cityA08</th>\n",
       "      <th>cylinders</th>\n",
       "      <th>highway08</th>\n",
       "      <th>highwayA08</th>\n",
       "      <th>id</th>\n",
       "      <th>year</th>\n",
       "      <th>fuelType2</th>\n",
       "    </tr>\n",
       "  </thead>\n",
       "  <tbody>\n",
       "    <tr>\n",
       "      <th>0</th>\n",
       "      <td>19</td>\n",
       "      <td>0</td>\n",
       "      <td>4</td>\n",
       "      <td>25</td>\n",
       "      <td>0</td>\n",
       "      <td>1</td>\n",
       "      <td>1985</td>\n",
       "      <td>NaN</td>\n",
       "    </tr>\n",
       "    <tr>\n",
       "      <th>1</th>\n",
       "      <td>9</td>\n",
       "      <td>0</td>\n",
       "      <td>12</td>\n",
       "      <td>14</td>\n",
       "      <td>0</td>\n",
       "      <td>10</td>\n",
       "      <td>1985</td>\n",
       "      <td>NaN</td>\n",
       "    </tr>\n",
       "    <tr>\n",
       "      <th>2</th>\n",
       "      <td>23</td>\n",
       "      <td>0</td>\n",
       "      <td>4</td>\n",
       "      <td>33</td>\n",
       "      <td>0</td>\n",
       "      <td>100</td>\n",
       "      <td>1985</td>\n",
       "      <td>NaN</td>\n",
       "    </tr>\n",
       "    <tr>\n",
       "      <th>3</th>\n",
       "      <td>10</td>\n",
       "      <td>0</td>\n",
       "      <td>8</td>\n",
       "      <td>12</td>\n",
       "      <td>0</td>\n",
       "      <td>1000</td>\n",
       "      <td>1985</td>\n",
       "      <td>NaN</td>\n",
       "    </tr>\n",
       "    <tr>\n",
       "      <th>4</th>\n",
       "      <td>17</td>\n",
       "      <td>0</td>\n",
       "      <td>4</td>\n",
       "      <td>23</td>\n",
       "      <td>0</td>\n",
       "      <td>10000</td>\n",
       "      <td>1993</td>\n",
       "      <td>NaN</td>\n",
       "    </tr>\n",
       "  </tbody>\n",
       "</table>\n",
       "</div>"
      ],
      "text/plain": [
       "   city08  cityA08  cylinders  highway08  highwayA08     id  year  fuelType2\n",
       "0      19        0          4         25           0      1  1985        NaN\n",
       "1       9        0         12         14           0     10  1985        NaN\n",
       "2      23        0          4         33           0    100  1985        NaN\n",
       "3      10        0          8         12           0   1000  1985        NaN\n",
       "4      17        0          4         23           0  10000  1993        NaN"
      ]
     },
     "execution_count": 8,
     "metadata": {},
     "output_type": "execute_result"
    }
   ],
   "source": [
    "data.head()"
   ]
  },
  {
   "cell_type": "code",
   "execution_count": 9,
   "metadata": {},
   "outputs": [],
   "source": [
    "# Creaing the new column CityHighwayDiff.\n",
    "data['CityHighwayDiff'] = data['highway08'] - data['city08']"
   ]
  },
  {
   "cell_type": "code",
   "execution_count": 10,
   "metadata": {},
   "outputs": [
    {
     "data": {
      "text/html": [
       "<div>\n",
       "<style scoped>\n",
       "    .dataframe tbody tr th:only-of-type {\n",
       "        vertical-align: middle;\n",
       "    }\n",
       "\n",
       "    .dataframe tbody tr th {\n",
       "        vertical-align: top;\n",
       "    }\n",
       "\n",
       "    .dataframe thead th {\n",
       "        text-align: right;\n",
       "    }\n",
       "</style>\n",
       "<table border=\"1\" class=\"dataframe\">\n",
       "  <thead>\n",
       "    <tr style=\"text-align: right;\">\n",
       "      <th></th>\n",
       "      <th>city08</th>\n",
       "      <th>cityA08</th>\n",
       "      <th>cylinders</th>\n",
       "      <th>highway08</th>\n",
       "      <th>highwayA08</th>\n",
       "      <th>id</th>\n",
       "      <th>year</th>\n",
       "      <th>fuelType2</th>\n",
       "      <th>CityHighwayDiff</th>\n",
       "    </tr>\n",
       "  </thead>\n",
       "  <tbody>\n",
       "    <tr>\n",
       "      <th>0</th>\n",
       "      <td>19</td>\n",
       "      <td>0</td>\n",
       "      <td>4</td>\n",
       "      <td>25</td>\n",
       "      <td>0</td>\n",
       "      <td>1</td>\n",
       "      <td>1985</td>\n",
       "      <td>NaN</td>\n",
       "      <td>6</td>\n",
       "    </tr>\n",
       "    <tr>\n",
       "      <th>1</th>\n",
       "      <td>9</td>\n",
       "      <td>0</td>\n",
       "      <td>12</td>\n",
       "      <td>14</td>\n",
       "      <td>0</td>\n",
       "      <td>10</td>\n",
       "      <td>1985</td>\n",
       "      <td>NaN</td>\n",
       "      <td>5</td>\n",
       "    </tr>\n",
       "    <tr>\n",
       "      <th>2</th>\n",
       "      <td>23</td>\n",
       "      <td>0</td>\n",
       "      <td>4</td>\n",
       "      <td>33</td>\n",
       "      <td>0</td>\n",
       "      <td>100</td>\n",
       "      <td>1985</td>\n",
       "      <td>NaN</td>\n",
       "      <td>10</td>\n",
       "    </tr>\n",
       "    <tr>\n",
       "      <th>3</th>\n",
       "      <td>10</td>\n",
       "      <td>0</td>\n",
       "      <td>8</td>\n",
       "      <td>12</td>\n",
       "      <td>0</td>\n",
       "      <td>1000</td>\n",
       "      <td>1985</td>\n",
       "      <td>NaN</td>\n",
       "      <td>2</td>\n",
       "    </tr>\n",
       "    <tr>\n",
       "      <th>4</th>\n",
       "      <td>17</td>\n",
       "      <td>0</td>\n",
       "      <td>4</td>\n",
       "      <td>23</td>\n",
       "      <td>0</td>\n",
       "      <td>10000</td>\n",
       "      <td>1993</td>\n",
       "      <td>NaN</td>\n",
       "      <td>6</td>\n",
       "    </tr>\n",
       "  </tbody>\n",
       "</table>\n",
       "</div>"
      ],
      "text/plain": [
       "   city08  cityA08  cylinders  highway08  highwayA08     id  year  fuelType2  \\\n",
       "0      19        0          4         25           0      1  1985        NaN   \n",
       "1       9        0         12         14           0     10  1985        NaN   \n",
       "2      23        0          4         33           0    100  1985        NaN   \n",
       "3      10        0          8         12           0   1000  1985        NaN   \n",
       "4      17        0          4         23           0  10000  1993        NaN   \n",
       "\n",
       "   CityHighwayDiff  \n",
       "0                6  \n",
       "1                5  \n",
       "2               10  \n",
       "3                2  \n",
       "4                6  "
      ]
     },
     "execution_count": 10,
     "metadata": {},
     "output_type": "execute_result"
    }
   ],
   "source": [
    "data.head()"
   ]
  },
  {
   "cell_type": "markdown",
   "metadata": {},
   "source": [
    "New column created as shown in the above table"
   ]
  },
  {
   "cell_type": "code",
   "execution_count": 11,
   "metadata": {},
   "outputs": [
    {
     "data": {
      "text/plain": [
       "Text(0.5, 0, 'City Highway Diff.')"
      ]
     },
     "execution_count": 11,
     "metadata": {},
     "output_type": "execute_result"
    },
    {
     "data": {
      "image/png": "[encoded data removed]",
      "text/plain": [
       "<Figure size 432x288 with 1 Axes>"
      ]
     },
     "metadata": {
      "needs_background": "light"
     },
     "output_type": "display_data"
    }
   ],
   "source": [
    "# Plot a histogram of this column \"CityHighwayDiff\".\n",
    "data.hist('CityHighwayDiff',bins= 10, rwidth=0.9)\n",
    "plt.title('City Highway Difference Histogram')\n",
    "plt.xlabel('City Highway Diff.')"
   ]
  },
  {
   "cell_type": "code",
   "execution_count": 12,
   "metadata": {},
   "outputs": [
    {
     "data": {
      "text/plain": [
       "city08                0\n",
       "cityA08               0\n",
       "cylinders             0\n",
       "highway08             0\n",
       "highwayA08            0\n",
       "id                    0\n",
       "year                  0\n",
       "fuelType2          6000\n",
       "CityHighwayDiff       0\n",
       "dtype: int64"
      ]
     },
     "execution_count": 12,
     "metadata": {},
     "output_type": "execute_result"
    }
   ],
   "source": [
    "data.isna().sum() "
   ]
  },
  {
   "cell_type": "markdown",
   "metadata": {},
   "source": [
    "The column labelled \"fuelType2\" has missing values (6000) in all the rows in the dataframe so it will be dropped."
   ]
  },
  {
   "cell_type": "code",
   "execution_count": 13,
   "metadata": {},
   "outputs": [],
   "source": [
    "# Dropping the column labelled \"fuelType2\".\n",
    "data = data.drop(['fuelType2'], axis=1)"
   ]
  },
  {
   "cell_type": "code",
   "execution_count": 14,
   "metadata": {},
   "outputs": [
    {
     "data": {
      "text/html": [
       "<div>\n",
       "<style scoped>\n",
       "    .dataframe tbody tr th:only-of-type {\n",
       "        vertical-align: middle;\n",
       "    }\n",
       "\n",
       "    .dataframe tbody tr th {\n",
       "        vertical-align: top;\n",
       "    }\n",
       "\n",
       "    .dataframe thead th {\n",
       "        text-align: right;\n",
       "    }\n",
       "</style>\n",
       "<table border=\"1\" class=\"dataframe\">\n",
       "  <thead>\n",
       "    <tr style=\"text-align: right;\">\n",
       "      <th></th>\n",
       "      <th>city08</th>\n",
       "      <th>cityA08</th>\n",
       "      <th>cylinders</th>\n",
       "      <th>highway08</th>\n",
       "      <th>highwayA08</th>\n",
       "      <th>id</th>\n",
       "      <th>year</th>\n",
       "      <th>CityHighwayDiff</th>\n",
       "    </tr>\n",
       "  </thead>\n",
       "  <tbody>\n",
       "    <tr>\n",
       "      <th>0</th>\n",
       "      <td>19</td>\n",
       "      <td>0</td>\n",
       "      <td>4</td>\n",
       "      <td>25</td>\n",
       "      <td>0</td>\n",
       "      <td>1</td>\n",
       "      <td>1985</td>\n",
       "      <td>6</td>\n",
       "    </tr>\n",
       "    <tr>\n",
       "      <th>1</th>\n",
       "      <td>9</td>\n",
       "      <td>0</td>\n",
       "      <td>12</td>\n",
       "      <td>14</td>\n",
       "      <td>0</td>\n",
       "      <td>10</td>\n",
       "      <td>1985</td>\n",
       "      <td>5</td>\n",
       "    </tr>\n",
       "    <tr>\n",
       "      <th>2</th>\n",
       "      <td>23</td>\n",
       "      <td>0</td>\n",
       "      <td>4</td>\n",
       "      <td>33</td>\n",
       "      <td>0</td>\n",
       "      <td>100</td>\n",
       "      <td>1985</td>\n",
       "      <td>10</td>\n",
       "    </tr>\n",
       "    <tr>\n",
       "      <th>3</th>\n",
       "      <td>10</td>\n",
       "      <td>0</td>\n",
       "      <td>8</td>\n",
       "      <td>12</td>\n",
       "      <td>0</td>\n",
       "      <td>1000</td>\n",
       "      <td>1985</td>\n",
       "      <td>2</td>\n",
       "    </tr>\n",
       "    <tr>\n",
       "      <th>4</th>\n",
       "      <td>17</td>\n",
       "      <td>0</td>\n",
       "      <td>4</td>\n",
       "      <td>23</td>\n",
       "      <td>0</td>\n",
       "      <td>10000</td>\n",
       "      <td>1993</td>\n",
       "      <td>6</td>\n",
       "    </tr>\n",
       "  </tbody>\n",
       "</table>\n",
       "</div>"
      ],
      "text/plain": [
       "   city08  cityA08  cylinders  highway08  highwayA08     id  year  \\\n",
       "0      19        0          4         25           0      1  1985   \n",
       "1       9        0         12         14           0     10  1985   \n",
       "2      23        0          4         33           0    100  1985   \n",
       "3      10        0          8         12           0   1000  1985   \n",
       "4      17        0          4         23           0  10000  1993   \n",
       "\n",
       "   CityHighwayDiff  \n",
       "0                6  \n",
       "1                5  \n",
       "2               10  \n",
       "3                2  \n",
       "4                6  "
      ]
     },
     "execution_count": 14,
     "metadata": {},
     "output_type": "execute_result"
    }
   ],
   "source": [
    "data.head()"
   ]
  },
  {
   "cell_type": "markdown",
   "metadata": {},
   "source": [
    "### Question 2"
   ]
  },
  {
   "cell_type": "markdown",
   "metadata": {},
   "source": [
    "Using the EPA fuel economy data set. Consider the “year” column. Create a new column “Decade” from the year column which maps each year into a class based on its decade. Plot a histogram of the Decade column to visualize the occurrences in each of the decades. Remove any other non-numeric columns from the dataframe. With the columns remaining, create a linear classifier that predicts the decade of a particular car based on the rest of the columns. Train the classifier using the entire dataset. Calculate and print the training error of the resulting classifier."
   ]
  },
  {
   "cell_type": "code",
   "execution_count": 15,
   "metadata": {},
   "outputs": [],
   "source": [
    "import numpy as np   \n",
    "import pandas as pd    \n",
    "import matplotlib.pyplot as plt \n",
    "%matplotlib inline \n",
    "import seaborn as sns\n",
    "\n",
    "# Libraries to split data, create simple linaer regression \n",
    "from sklearn.model_selection import train_test_split\n",
    "from sklearn.linear_model import LinearRegression\n",
    "from sklearn.linear_model import LogisticRegression\n",
    "from sklearn import metrics\n",
    "from sklearn.metrics import mean_squared_error"
   ]
  },
  {
   "cell_type": "code",
   "execution_count": 16,
   "metadata": {},
   "outputs": [],
   "source": [
    "# Code to load in the  EPA fuel economy data set and show the rows and columns\n",
    "df1 = pd.read_csv('EPA fuel economy dataset.csv')\n",
    "data2 = df1"
   ]
  },
  {
   "cell_type": "code",
   "execution_count": 17,
   "metadata": {},
   "outputs": [
    {
     "data": {
      "text/html": [
       "<div>\n",
       "<style scoped>\n",
       "    .dataframe tbody tr th:only-of-type {\n",
       "        vertical-align: middle;\n",
       "    }\n",
       "\n",
       "    .dataframe tbody tr th {\n",
       "        vertical-align: top;\n",
       "    }\n",
       "\n",
       "    .dataframe thead th {\n",
       "        text-align: right;\n",
       "    }\n",
       "</style>\n",
       "<table border=\"1\" class=\"dataframe\">\n",
       "  <thead>\n",
       "    <tr style=\"text-align: right;\">\n",
       "      <th></th>\n",
       "      <th>city08</th>\n",
       "      <th>cityA08</th>\n",
       "      <th>cylinders</th>\n",
       "      <th>fuelType</th>\n",
       "      <th>fuelType1</th>\n",
       "      <th>highway08</th>\n",
       "      <th>highwayA08</th>\n",
       "      <th>id</th>\n",
       "      <th>make</th>\n",
       "      <th>model</th>\n",
       "      <th>mpgData</th>\n",
       "      <th>trany</th>\n",
       "      <th>year</th>\n",
       "      <th>fuelType2</th>\n",
       "    </tr>\n",
       "  </thead>\n",
       "  <tbody>\n",
       "    <tr>\n",
       "      <th>0</th>\n",
       "      <td>19</td>\n",
       "      <td>0</td>\n",
       "      <td>4</td>\n",
       "      <td>Regular</td>\n",
       "      <td>Regular Gasoline</td>\n",
       "      <td>25</td>\n",
       "      <td>0</td>\n",
       "      <td>1</td>\n",
       "      <td>Alfa Romeo</td>\n",
       "      <td>Spider Veloce 2000</td>\n",
       "      <td>Y</td>\n",
       "      <td>Manual 5-spd</td>\n",
       "      <td>1985</td>\n",
       "      <td>NaN</td>\n",
       "    </tr>\n",
       "    <tr>\n",
       "      <th>1</th>\n",
       "      <td>9</td>\n",
       "      <td>0</td>\n",
       "      <td>12</td>\n",
       "      <td>Regular</td>\n",
       "      <td>Regular Gasoline</td>\n",
       "      <td>14</td>\n",
       "      <td>0</td>\n",
       "      <td>10</td>\n",
       "      <td>Ferrari</td>\n",
       "      <td>Testarossa</td>\n",
       "      <td>N</td>\n",
       "      <td>Manual 5-spd</td>\n",
       "      <td>1985</td>\n",
       "      <td>NaN</td>\n",
       "    </tr>\n",
       "    <tr>\n",
       "      <th>2</th>\n",
       "      <td>23</td>\n",
       "      <td>0</td>\n",
       "      <td>4</td>\n",
       "      <td>Regular</td>\n",
       "      <td>Regular Gasoline</td>\n",
       "      <td>33</td>\n",
       "      <td>0</td>\n",
       "      <td>100</td>\n",
       "      <td>Dodge</td>\n",
       "      <td>Charger</td>\n",
       "      <td>Y</td>\n",
       "      <td>Manual 5-spd</td>\n",
       "      <td>1985</td>\n",
       "      <td>NaN</td>\n",
       "    </tr>\n",
       "    <tr>\n",
       "      <th>3</th>\n",
       "      <td>10</td>\n",
       "      <td>0</td>\n",
       "      <td>8</td>\n",
       "      <td>Regular</td>\n",
       "      <td>Regular Gasoline</td>\n",
       "      <td>12</td>\n",
       "      <td>0</td>\n",
       "      <td>1000</td>\n",
       "      <td>Dodge</td>\n",
       "      <td>B150/B250 Wagon 2WD</td>\n",
       "      <td>N</td>\n",
       "      <td>Automatic 3-spd</td>\n",
       "      <td>1985</td>\n",
       "      <td>NaN</td>\n",
       "    </tr>\n",
       "    <tr>\n",
       "      <th>4</th>\n",
       "      <td>17</td>\n",
       "      <td>0</td>\n",
       "      <td>4</td>\n",
       "      <td>Premium</td>\n",
       "      <td>Premium Gasoline</td>\n",
       "      <td>23</td>\n",
       "      <td>0</td>\n",
       "      <td>10000</td>\n",
       "      <td>Subaru</td>\n",
       "      <td>Legacy AWD Turbo</td>\n",
       "      <td>N</td>\n",
       "      <td>Manual 5-spd</td>\n",
       "      <td>1993</td>\n",
       "      <td>NaN</td>\n",
       "    </tr>\n",
       "  </tbody>\n",
       "</table>\n",
       "</div>"
      ],
      "text/plain": [
       "   city08  cityA08  cylinders fuelType         fuelType1  highway08  \\\n",
       "0      19        0          4  Regular  Regular Gasoline         25   \n",
       "1       9        0         12  Regular  Regular Gasoline         14   \n",
       "2      23        0          4  Regular  Regular Gasoline         33   \n",
       "3      10        0          8  Regular  Regular Gasoline         12   \n",
       "4      17        0          4  Premium  Premium Gasoline         23   \n",
       "\n",
       "   highwayA08     id        make                model mpgData  \\\n",
       "0           0      1  Alfa Romeo   Spider Veloce 2000       Y   \n",
       "1           0     10     Ferrari           Testarossa       N   \n",
       "2           0    100       Dodge              Charger       Y   \n",
       "3           0   1000       Dodge  B150/B250 Wagon 2WD       N   \n",
       "4           0  10000      Subaru     Legacy AWD Turbo       N   \n",
       "\n",
       "             trany  year  fuelType2  \n",
       "0     Manual 5-spd  1985        NaN  \n",
       "1     Manual 5-spd  1985        NaN  \n",
       "2     Manual 5-spd  1985        NaN  \n",
       "3  Automatic 3-spd  1985        NaN  \n",
       "4     Manual 5-spd  1993        NaN  "
      ]
     },
     "execution_count": 17,
     "metadata": {},
     "output_type": "execute_result"
    }
   ],
   "source": [
    "data2.head()"
   ]
  },
  {
   "cell_type": "code",
   "execution_count": 18,
   "metadata": {},
   "outputs": [],
   "source": [
    "#Creating a new column called \"Decade\".\n",
    "\n",
    "data2[\"decade\"]= [ int(np.floor(year/10) * 10) for year in data2[\"year\"]]"
   ]
  },
  {
   "cell_type": "code",
   "execution_count": 19,
   "metadata": {},
   "outputs": [
    {
     "data": {
      "text/html": [
       "<div>\n",
       "<style scoped>\n",
       "    .dataframe tbody tr th:only-of-type {\n",
       "        vertical-align: middle;\n",
       "    }\n",
       "\n",
       "    .dataframe tbody tr th {\n",
       "        vertical-align: top;\n",
       "    }\n",
       "\n",
       "    .dataframe thead th {\n",
       "        text-align: right;\n",
       "    }\n",
       "</style>\n",
       "<table border=\"1\" class=\"dataframe\">\n",
       "  <thead>\n",
       "    <tr style=\"text-align: right;\">\n",
       "      <th></th>\n",
       "      <th>city08</th>\n",
       "      <th>cityA08</th>\n",
       "      <th>cylinders</th>\n",
       "      <th>fuelType</th>\n",
       "      <th>fuelType1</th>\n",
       "      <th>highway08</th>\n",
       "      <th>highwayA08</th>\n",
       "      <th>id</th>\n",
       "      <th>make</th>\n",
       "      <th>model</th>\n",
       "      <th>mpgData</th>\n",
       "      <th>trany</th>\n",
       "      <th>year</th>\n",
       "      <th>fuelType2</th>\n",
       "      <th>decade</th>\n",
       "    </tr>\n",
       "  </thead>\n",
       "  <tbody>\n",
       "    <tr>\n",
       "      <th>0</th>\n",
       "      <td>19</td>\n",
       "      <td>0</td>\n",
       "      <td>4</td>\n",
       "      <td>Regular</td>\n",
       "      <td>Regular Gasoline</td>\n",
       "      <td>25</td>\n",
       "      <td>0</td>\n",
       "      <td>1</td>\n",
       "      <td>Alfa Romeo</td>\n",
       "      <td>Spider Veloce 2000</td>\n",
       "      <td>Y</td>\n",
       "      <td>Manual 5-spd</td>\n",
       "      <td>1985</td>\n",
       "      <td>NaN</td>\n",
       "      <td>1980</td>\n",
       "    </tr>\n",
       "    <tr>\n",
       "      <th>1</th>\n",
       "      <td>9</td>\n",
       "      <td>0</td>\n",
       "      <td>12</td>\n",
       "      <td>Regular</td>\n",
       "      <td>Regular Gasoline</td>\n",
       "      <td>14</td>\n",
       "      <td>0</td>\n",
       "      <td>10</td>\n",
       "      <td>Ferrari</td>\n",
       "      <td>Testarossa</td>\n",
       "      <td>N</td>\n",
       "      <td>Manual 5-spd</td>\n",
       "      <td>1985</td>\n",
       "      <td>NaN</td>\n",
       "      <td>1980</td>\n",
       "    </tr>\n",
       "    <tr>\n",
       "      <th>2</th>\n",
       "      <td>23</td>\n",
       "      <td>0</td>\n",
       "      <td>4</td>\n",
       "      <td>Regular</td>\n",
       "      <td>Regular Gasoline</td>\n",
       "      <td>33</td>\n",
       "      <td>0</td>\n",
       "      <td>100</td>\n",
       "      <td>Dodge</td>\n",
       "      <td>Charger</td>\n",
       "      <td>Y</td>\n",
       "      <td>Manual 5-spd</td>\n",
       "      <td>1985</td>\n",
       "      <td>NaN</td>\n",
       "      <td>1980</td>\n",
       "    </tr>\n",
       "    <tr>\n",
       "      <th>3</th>\n",
       "      <td>10</td>\n",
       "      <td>0</td>\n",
       "      <td>8</td>\n",
       "      <td>Regular</td>\n",
       "      <td>Regular Gasoline</td>\n",
       "      <td>12</td>\n",
       "      <td>0</td>\n",
       "      <td>1000</td>\n",
       "      <td>Dodge</td>\n",
       "      <td>B150/B250 Wagon 2WD</td>\n",
       "      <td>N</td>\n",
       "      <td>Automatic 3-spd</td>\n",
       "      <td>1985</td>\n",
       "      <td>NaN</td>\n",
       "      <td>1980</td>\n",
       "    </tr>\n",
       "    <tr>\n",
       "      <th>4</th>\n",
       "      <td>17</td>\n",
       "      <td>0</td>\n",
       "      <td>4</td>\n",
       "      <td>Premium</td>\n",
       "      <td>Premium Gasoline</td>\n",
       "      <td>23</td>\n",
       "      <td>0</td>\n",
       "      <td>10000</td>\n",
       "      <td>Subaru</td>\n",
       "      <td>Legacy AWD Turbo</td>\n",
       "      <td>N</td>\n",
       "      <td>Manual 5-spd</td>\n",
       "      <td>1993</td>\n",
       "      <td>NaN</td>\n",
       "      <td>1990</td>\n",
       "    </tr>\n",
       "  </tbody>\n",
       "</table>\n",
       "</div>"
      ],
      "text/plain": [
       "   city08  cityA08  cylinders fuelType         fuelType1  highway08  \\\n",
       "0      19        0          4  Regular  Regular Gasoline         25   \n",
       "1       9        0         12  Regular  Regular Gasoline         14   \n",
       "2      23        0          4  Regular  Regular Gasoline         33   \n",
       "3      10        0          8  Regular  Regular Gasoline         12   \n",
       "4      17        0          4  Premium  Premium Gasoline         23   \n",
       "\n",
       "   highwayA08     id        make                model mpgData  \\\n",
       "0           0      1  Alfa Romeo   Spider Veloce 2000       Y   \n",
       "1           0     10     Ferrari           Testarossa       N   \n",
       "2           0    100       Dodge              Charger       Y   \n",
       "3           0   1000       Dodge  B150/B250 Wagon 2WD       N   \n",
       "4           0  10000      Subaru     Legacy AWD Turbo       N   \n",
       "\n",
       "             trany  year  fuelType2  decade  \n",
       "0     Manual 5-spd  1985        NaN    1980  \n",
       "1     Manual 5-spd  1985        NaN    1980  \n",
       "2     Manual 5-spd  1985        NaN    1980  \n",
       "3  Automatic 3-spd  1985        NaN    1980  \n",
       "4     Manual 5-spd  1993        NaN    1990  "
      ]
     },
     "execution_count": 19,
     "metadata": {},
     "output_type": "execute_result"
    }
   ],
   "source": [
    "data2.head()"
   ]
  },
  {
   "cell_type": "code",
   "execution_count": 20,
   "metadata": {},
   "outputs": [
    {
     "data": {
      "text/plain": [
       "Text(0.5, 0, 'Decades')"
      ]
     },
     "execution_count": 20,
     "metadata": {},
     "output_type": "execute_result"
    },
    {
     "data": {
      "image/png": "[encoded data removed]",
      "text/plain": [
       "<Figure size 432x288 with 1 Axes>"
      ]
     },
     "metadata": {
      "needs_background": "light"
     },
     "output_type": "display_data"
    }
   ],
   "source": [
    "# Plot a histogram of the Decade column to visualize the occurrences in each of the decades.\n",
    "data2.hist('decade',bins= 10, rwidth=0.9)\n",
    "plt.title('Histogram of Decades')\n",
    "plt.xlabel('Decades')"
   ]
  },
  {
   "cell_type": "code",
   "execution_count": 21,
   "metadata": {},
   "outputs": [
    {
     "name": "stdout",
     "output_type": "stream",
     "text": [
      "<class 'pandas.core.frame.DataFrame'>\n",
      "RangeIndex: 6000 entries, 0 to 5999\n",
      "Data columns (total 9 columns):\n",
      " #   Column      Non-Null Count  Dtype  \n",
      "---  ------      --------------  -----  \n",
      " 0   city08      6000 non-null   int64  \n",
      " 1   cityA08     6000 non-null   int64  \n",
      " 2   cylinders   6000 non-null   int64  \n",
      " 3   highway08   6000 non-null   int64  \n",
      " 4   highwayA08  6000 non-null   int64  \n",
      " 5   id          6000 non-null   int64  \n",
      " 6   year        6000 non-null   int64  \n",
      " 7   fuelType2   0 non-null      float64\n",
      " 8   decade      6000 non-null   int64  \n",
      "dtypes: float64(1), int64(8)\n",
      "memory usage: 422.0 KB\n"
     ]
    }
   ],
   "source": [
    "# Dropping the non-numeric columns.\n",
    "data2 = data2.drop(['fuelType', 'fuelType1', 'make', 'model', 'mpgData', 'trany'], axis = 1)\n",
    "data2.info()"
   ]
  },
  {
   "cell_type": "markdown",
   "metadata": {},
   "source": [
    "Confirmation that the non-numeric columns has been removed."
   ]
  },
  {
   "cell_type": "code",
   "execution_count": 22,
   "metadata": {},
   "outputs": [
    {
     "data": {
      "text/html": [
       "<div>\n",
       "<style scoped>\n",
       "    .dataframe tbody tr th:only-of-type {\n",
       "        vertical-align: middle;\n",
       "    }\n",
       "\n",
       "    .dataframe tbody tr th {\n",
       "        vertical-align: top;\n",
       "    }\n",
       "\n",
       "    .dataframe thead th {\n",
       "        text-align: right;\n",
       "    }\n",
       "</style>\n",
       "<table border=\"1\" class=\"dataframe\">\n",
       "  <thead>\n",
       "    <tr style=\"text-align: right;\">\n",
       "      <th></th>\n",
       "      <th>city08</th>\n",
       "      <th>cityA08</th>\n",
       "      <th>cylinders</th>\n",
       "      <th>highway08</th>\n",
       "      <th>highwayA08</th>\n",
       "      <th>id</th>\n",
       "      <th>year</th>\n",
       "      <th>fuelType2</th>\n",
       "      <th>decade</th>\n",
       "    </tr>\n",
       "  </thead>\n",
       "  <tbody>\n",
       "    <tr>\n",
       "      <th>0</th>\n",
       "      <td>19</td>\n",
       "      <td>0</td>\n",
       "      <td>4</td>\n",
       "      <td>25</td>\n",
       "      <td>0</td>\n",
       "      <td>1</td>\n",
       "      <td>1985</td>\n",
       "      <td>NaN</td>\n",
       "      <td>1980</td>\n",
       "    </tr>\n",
       "    <tr>\n",
       "      <th>1</th>\n",
       "      <td>9</td>\n",
       "      <td>0</td>\n",
       "      <td>12</td>\n",
       "      <td>14</td>\n",
       "      <td>0</td>\n",
       "      <td>10</td>\n",
       "      <td>1985</td>\n",
       "      <td>NaN</td>\n",
       "      <td>1980</td>\n",
       "    </tr>\n",
       "    <tr>\n",
       "      <th>2</th>\n",
       "      <td>23</td>\n",
       "      <td>0</td>\n",
       "      <td>4</td>\n",
       "      <td>33</td>\n",
       "      <td>0</td>\n",
       "      <td>100</td>\n",
       "      <td>1985</td>\n",
       "      <td>NaN</td>\n",
       "      <td>1980</td>\n",
       "    </tr>\n",
       "    <tr>\n",
       "      <th>3</th>\n",
       "      <td>10</td>\n",
       "      <td>0</td>\n",
       "      <td>8</td>\n",
       "      <td>12</td>\n",
       "      <td>0</td>\n",
       "      <td>1000</td>\n",
       "      <td>1985</td>\n",
       "      <td>NaN</td>\n",
       "      <td>1980</td>\n",
       "    </tr>\n",
       "    <tr>\n",
       "      <th>4</th>\n",
       "      <td>17</td>\n",
       "      <td>0</td>\n",
       "      <td>4</td>\n",
       "      <td>23</td>\n",
       "      <td>0</td>\n",
       "      <td>10000</td>\n",
       "      <td>1993</td>\n",
       "      <td>NaN</td>\n",
       "      <td>1990</td>\n",
       "    </tr>\n",
       "  </tbody>\n",
       "</table>\n",
       "</div>"
      ],
      "text/plain": [
       "   city08  cityA08  cylinders  highway08  highwayA08     id  year  fuelType2  \\\n",
       "0      19        0          4         25           0      1  1985        NaN   \n",
       "1       9        0         12         14           0     10  1985        NaN   \n",
       "2      23        0          4         33           0    100  1985        NaN   \n",
       "3      10        0          8         12           0   1000  1985        NaN   \n",
       "4      17        0          4         23           0  10000  1993        NaN   \n",
       "\n",
       "   decade  \n",
       "0    1980  \n",
       "1    1980  \n",
       "2    1980  \n",
       "3    1980  \n",
       "4    1990  "
      ]
     },
     "execution_count": 22,
     "metadata": {},
     "output_type": "execute_result"
    }
   ],
   "source": [
    "data2.head()"
   ]
  },
  {
   "cell_type": "code",
   "execution_count": 23,
   "metadata": {},
   "outputs": [
    {
     "data": {
      "text/plain": [
       "city08           0\n",
       "cityA08          0\n",
       "cylinders        0\n",
       "highway08        0\n",
       "highwayA08       0\n",
       "id               0\n",
       "year             0\n",
       "fuelType2     6000\n",
       "decade           0\n",
       "dtype: int64"
      ]
     },
     "execution_count": 23,
     "metadata": {},
     "output_type": "execute_result"
    }
   ],
   "source": [
    "data2.isna().sum() "
   ]
  },
  {
   "cell_type": "markdown",
   "metadata": {},
   "source": [
    "The column labelled \"fuelType2\" has missing values (6000) in all the rows in the dataframe so it will be dropped. "
   ]
  },
  {
   "cell_type": "code",
   "execution_count": 24,
   "metadata": {},
   "outputs": [],
   "source": [
    "# Dropping the column labelled \"fuelType2\".\n",
    "data2 = data2.drop(['fuelType2'], axis=1)"
   ]
  },
  {
   "cell_type": "code",
   "execution_count": 25,
   "metadata": {},
   "outputs": [
    {
     "data": {
      "text/html": [
       "<div>\n",
       "<style scoped>\n",
       "    .dataframe tbody tr th:only-of-type {\n",
       "        vertical-align: middle;\n",
       "    }\n",
       "\n",
       "    .dataframe tbody tr th {\n",
       "        vertical-align: top;\n",
       "    }\n",
       "\n",
       "    .dataframe thead th {\n",
       "        text-align: right;\n",
       "    }\n",
       "</style>\n",
       "<table border=\"1\" class=\"dataframe\">\n",
       "  <thead>\n",
       "    <tr style=\"text-align: right;\">\n",
       "      <th></th>\n",
       "      <th>city08</th>\n",
       "      <th>cityA08</th>\n",
       "      <th>cylinders</th>\n",
       "      <th>highway08</th>\n",
       "      <th>highwayA08</th>\n",
       "      <th>id</th>\n",
       "      <th>year</th>\n",
       "      <th>decade</th>\n",
       "    </tr>\n",
       "  </thead>\n",
       "  <tbody>\n",
       "    <tr>\n",
       "      <th>0</th>\n",
       "      <td>19</td>\n",
       "      <td>0</td>\n",
       "      <td>4</td>\n",
       "      <td>25</td>\n",
       "      <td>0</td>\n",
       "      <td>1</td>\n",
       "      <td>1985</td>\n",
       "      <td>1980</td>\n",
       "    </tr>\n",
       "    <tr>\n",
       "      <th>1</th>\n",
       "      <td>9</td>\n",
       "      <td>0</td>\n",
       "      <td>12</td>\n",
       "      <td>14</td>\n",
       "      <td>0</td>\n",
       "      <td>10</td>\n",
       "      <td>1985</td>\n",
       "      <td>1980</td>\n",
       "    </tr>\n",
       "    <tr>\n",
       "      <th>2</th>\n",
       "      <td>23</td>\n",
       "      <td>0</td>\n",
       "      <td>4</td>\n",
       "      <td>33</td>\n",
       "      <td>0</td>\n",
       "      <td>100</td>\n",
       "      <td>1985</td>\n",
       "      <td>1980</td>\n",
       "    </tr>\n",
       "    <tr>\n",
       "      <th>3</th>\n",
       "      <td>10</td>\n",
       "      <td>0</td>\n",
       "      <td>8</td>\n",
       "      <td>12</td>\n",
       "      <td>0</td>\n",
       "      <td>1000</td>\n",
       "      <td>1985</td>\n",
       "      <td>1980</td>\n",
       "    </tr>\n",
       "    <tr>\n",
       "      <th>4</th>\n",
       "      <td>17</td>\n",
       "      <td>0</td>\n",
       "      <td>4</td>\n",
       "      <td>23</td>\n",
       "      <td>0</td>\n",
       "      <td>10000</td>\n",
       "      <td>1993</td>\n",
       "      <td>1990</td>\n",
       "    </tr>\n",
       "  </tbody>\n",
       "</table>\n",
       "</div>"
      ],
      "text/plain": [
       "   city08  cityA08  cylinders  highway08  highwayA08     id  year  decade\n",
       "0      19        0          4         25           0      1  1985    1980\n",
       "1       9        0         12         14           0     10  1985    1980\n",
       "2      23        0          4         33           0    100  1985    1980\n",
       "3      10        0          8         12           0   1000  1985    1980\n",
       "4      17        0          4         23           0  10000  1993    1990"
      ]
     },
     "execution_count": 25,
     "metadata": {},
     "output_type": "execute_result"
    }
   ],
   "source": [
    "data2.head()"
   ]
  },
  {
   "cell_type": "markdown",
   "metadata": {},
   "source": [
    "### Design of linear classifier that predict the decade of a particular car"
   ]
  },
  {
   "cell_type": "code",
   "execution_count": 26,
   "metadata": {},
   "outputs": [],
   "source": [
    "# Divide the data into independent and dependent variables\n",
    "X = data2.drop([\"decade\"], axis=1).values      # independent variables\n",
    "Y = data2[[\"decade\"]].values                   # dependent variables"
   ]
  },
  {
   "cell_type": "code",
   "execution_count": 27,
   "metadata": {},
   "outputs": [
    {
     "name": "stdout",
     "output_type": "stream",
     "text": [
      "[[   19     0     4 ...     0     1  1985]\n",
      " [    9     0    12 ...     0    10  1985]\n",
      " [   23     0     4 ...     0   100  1985]\n",
      " ...\n",
      " [   12     0     8 ...     0 15397  1999]\n",
      " [   13     0     6 ...     0 15398  1999]\n",
      " [   12     0     8 ...     0 15399  1999]]\n",
      "[[1980]\n",
      " [1980]\n",
      " [1980]\n",
      " ...\n",
      " [1990]\n",
      " [1990]\n",
      " [1990]]\n"
     ]
    }
   ],
   "source": [
    "# Print new data\n",
    "print(X)\n",
    "print(Y)"
   ]
  },
  {
   "cell_type": "code",
   "execution_count": 28,
   "metadata": {},
   "outputs": [
    {
     "name": "stderr",
     "output_type": "stream",
     "text": [
      "/Users/danielfiadjoe/anaconda3/lib/python3.8/site-packages/sklearn/utils/validation.py:72: DataConversionWarning: A column-vector y was passed when a 1d array was expected. Please change the shape of y to (n_samples, ), for example using ravel().\n",
      "  return f(**kwargs)\n"
     ]
    },
    {
     "data": {
      "text/plain": [
       "1.0"
      ]
     },
     "execution_count": 28,
     "metadata": {},
     "output_type": "execute_result"
    }
   ],
   "source": [
    "# Linear regression to fit and predict. Using Logistic Regression to model\n",
    "log_model = LogisticRegression(random_state=1)\n",
    "clf = log_model.fit(X,Y)\n",
    "clf.score(X,Y)"
   ]
  },
  {
   "cell_type": "code",
   "execution_count": 29,
   "metadata": {},
   "outputs": [
    {
     "name": "stdout",
     "output_type": "stream",
     "text": [
      "The predicted decade of cars are:\n",
      "[1980 1980 1980 ... 1990 1990 1990]\n"
     ]
    }
   ],
   "source": [
    "# Calculate the training error\n",
    "y_predict = log_model.predict(X)\n",
    "\n",
    "print(\"The predicted decade of cars are:\")\n",
    "print(y_predict)"
   ]
  },
  {
   "cell_type": "code",
   "execution_count": 30,
   "metadata": {},
   "outputs": [
    {
     "name": "stdout",
     "output_type": "stream",
     "text": [
      "0.0\n",
      "18.02666111111111\n"
     ]
    }
   ],
   "source": [
    "# Print errors\n",
    "print(mean_squared_error(Y, y_predict))\n",
    "print(np.mean(np.square(np.array(y_predict)-np.array(Y))))"
   ]
  },
  {
   "cell_type": "markdown",
   "metadata": {},
   "source": [
    "## Question 3"
   ]
  },
  {
   "cell_type": "markdown",
   "metadata": {},
   "source": [
    "Building on 2, split the training set used into a training and test set (split evenly 50:50). Re-fit the linear classifier developed above on the 50% training set and calculate and print the mean absolute error of the predictor using the 50% test set."
   ]
  },
  {
   "cell_type": "markdown",
   "metadata": {},
   "source": [
    "#### Split the data from question 2 into 50:50 and re-fit."
   ]
  },
  {
   "cell_type": "code",
   "execution_count": 31,
   "metadata": {},
   "outputs": [],
   "source": [
    "# Spliting data into training (50%) and test data (50%) sets.\n",
    "x_train, x_test, y_train, y_test = train_test_split(X, Y, test_size=0.5, random_state=1)"
   ]
  },
  {
   "cell_type": "code",
   "execution_count": 32,
   "metadata": {},
   "outputs": [
    {
     "name": "stdout",
     "output_type": "stream",
     "text": [
      "Number of rows in train data = 3000\n",
      "Number of rows in test data = 3000\n",
      "Number of rows in train data = 3000\n",
      "Number of rows in test data = 3000\n"
     ]
    }
   ],
   "source": [
    "# Shape of the train and test sets\n",
    "print(\"Number of rows in train data =\", x_train.shape[0])\n",
    "print(\"Number of rows in test data =\", x_test.shape[0])\n",
    "print(\"Number of rows in train data =\", y_train.shape[0])\n",
    "print(\"Number of rows in test data =\", y_test.shape[0])"
   ]
  },
  {
   "cell_type": "code",
   "execution_count": 33,
   "metadata": {},
   "outputs": [
    {
     "name": "stderr",
     "output_type": "stream",
     "text": [
      "/Users/danielfiadjoe/anaconda3/lib/python3.8/site-packages/sklearn/utils/validation.py:72: DataConversionWarning: A column-vector y was passed when a 1d array was expected. Please change the shape of y to (n_samples, ), for example using ravel().\n",
      "  return f(**kwargs)\n"
     ]
    },
    {
     "data": {
      "text/plain": [
       "1.0"
      ]
     },
     "execution_count": 33,
     "metadata": {},
     "output_type": "execute_result"
    }
   ],
   "source": [
    "# Fitting the linear regression model for the training (50%) and test data (50%) sets\n",
    "log_model1 = LogisticRegression(random_state=1)\n",
    "clf1 = log_model1.fit(x_train,y_train)\n",
    "clf1.score(x_train,y_train)"
   ]
  },
  {
   "cell_type": "code",
   "execution_count": 34,
   "metadata": {},
   "outputs": [
    {
     "name": "stdout",
     "output_type": "stream",
     "text": [
      "List of predicted decades:  [1990 1990 1990 ... 1990 1990 1990]\n",
      "\n",
      "The mean absolute error of the predictor using 50% of test set is:  0.0\n"
     ]
    }
   ],
   "source": [
    "y_predict2 = log_model1.predict(x_test)\n",
    "print(\"List of predicted decades: \", y_predict2)\n",
    "mean_ab_error = metrics.mean_absolute_error(y_test, y_predict2)\n",
    "print()\n",
    "print(\"The mean absolute error of the predictor using 50% of test set is: \", mean_ab_error)"
   ]
  },
  {
   "cell_type": "markdown",
   "metadata": {},
   "source": [
    "## Question 4"
   ]
  },
  {
   "cell_type": "markdown",
   "metadata": {},
   "source": [
    "Pick 2 of the numeric columns of the dataframe to eliminate from the table. Re-train the classifier using this new dataset. Compare the testing and training error using the 50/50 split of the missing columns classifier with that containing the full set of columns."
   ]
  },
  {
   "cell_type": "code",
   "execution_count": 35,
   "metadata": {},
   "outputs": [
    {
     "data": {
      "image/png": "[encoded data removed]",
      "text/plain": [
       "<Figure size 864x864 with 2 Axes>"
      ]
     },
     "metadata": {
      "needs_background": "light"
     },
     "output_type": "display_data"
    }
   ],
   "source": [
    "#Let's Look at correlation values\n",
    "corr=data2.corr()\n",
    "fig,ax=plt.subplots(figsize=(12,12))\n",
    "ax=sns.heatmap(corr,annot=True,square=True,fmt=\".2f\",cmap=\"YlGnBu\")"
   ]
  },
  {
   "cell_type": "markdown",
   "metadata": {},
   "source": [
    "From the above diagram, the 2 variables with no correlation can be removed because they have not impart on the data. The variables are \"city08\" and \"highwayA08\"."
   ]
  },
  {
   "cell_type": "code",
   "execution_count": 36,
   "metadata": {},
   "outputs": [
    {
     "data": {
      "text/plain": [
       "<seaborn.axisgrid.PairGrid at 0x7f7ea0ce3a00>"
      ]
     },
     "execution_count": 36,
     "metadata": {},
     "output_type": "execute_result"
    },
    {
     "data": {
      "image/png": "[encoded data removed]",
      "text/plain": [
       "<Figure size 1440x1440 with 72 Axes>"
      ]
     },
     "metadata": {
      "needs_background": "light"
     },
     "output_type": "display_data"
    }
   ],
   "source": [
    "sns.pairplot(data2)"
   ]
  },
  {
   "cell_type": "markdown",
   "metadata": {},
   "source": [
    "The pairplot above is also showing no reletionship between the 2 varibales which is shown as a single block in the diagram."
   ]
  },
  {
   "cell_type": "code",
   "execution_count": 37,
   "metadata": {},
   "outputs": [
    {
     "data": {
      "text/plain": [
       "cityA08          1\n",
       "highwayA08       1\n",
       "decade           2\n",
       "cylinders        8\n",
       "year             8\n",
       "city08          34\n",
       "highway08       40\n",
       "id            6000\n",
       "dtype: int64"
      ]
     },
     "execution_count": 37,
     "metadata": {},
     "output_type": "execute_result"
    }
   ],
   "source": [
    "data2.nunique().sort_values(ascending=True)"
   ]
  },
  {
   "cell_type": "markdown",
   "metadata": {},
   "source": [
    "Checking uniquiness of the variables also indicates that the 2 variables have value in them which is zero (0). Based on the 3 analyses above, the variables \"city08\" and \"highwayA08\" will be dropped as requested in the question."
   ]
  },
  {
   "cell_type": "code",
   "execution_count": 38,
   "metadata": {},
   "outputs": [],
   "source": [
    "# Duplicating data used in question 3.\n",
    "data3 = data2"
   ]
  },
  {
   "cell_type": "code",
   "execution_count": 39,
   "metadata": {},
   "outputs": [],
   "source": [
    "# Dropping the columns labelled \"city08\" and \"highwayA08\".\n",
    "data3 = data3.drop([\"cityA08\", \"highwayA08\"], axis=1)"
   ]
  },
  {
   "cell_type": "code",
   "execution_count": 40,
   "metadata": {},
   "outputs": [
    {
     "data": {
      "text/html": [
       "<div>\n",
       "<style scoped>\n",
       "    .dataframe tbody tr th:only-of-type {\n",
       "        vertical-align: middle;\n",
       "    }\n",
       "\n",
       "    .dataframe tbody tr th {\n",
       "        vertical-align: top;\n",
       "    }\n",
       "\n",
       "    .dataframe thead th {\n",
       "        text-align: right;\n",
       "    }\n",
       "</style>\n",
       "<table border=\"1\" class=\"dataframe\">\n",
       "  <thead>\n",
       "    <tr style=\"text-align: right;\">\n",
       "      <th></th>\n",
       "      <th>city08</th>\n",
       "      <th>cylinders</th>\n",
       "      <th>highway08</th>\n",
       "      <th>id</th>\n",
       "      <th>year</th>\n",
       "      <th>decade</th>\n",
       "    </tr>\n",
       "  </thead>\n",
       "  <tbody>\n",
       "    <tr>\n",
       "      <th>0</th>\n",
       "      <td>19</td>\n",
       "      <td>4</td>\n",
       "      <td>25</td>\n",
       "      <td>1</td>\n",
       "      <td>1985</td>\n",
       "      <td>1980</td>\n",
       "    </tr>\n",
       "    <tr>\n",
       "      <th>1</th>\n",
       "      <td>9</td>\n",
       "      <td>12</td>\n",
       "      <td>14</td>\n",
       "      <td>10</td>\n",
       "      <td>1985</td>\n",
       "      <td>1980</td>\n",
       "    </tr>\n",
       "    <tr>\n",
       "      <th>2</th>\n",
       "      <td>23</td>\n",
       "      <td>4</td>\n",
       "      <td>33</td>\n",
       "      <td>100</td>\n",
       "      <td>1985</td>\n",
       "      <td>1980</td>\n",
       "    </tr>\n",
       "    <tr>\n",
       "      <th>3</th>\n",
       "      <td>10</td>\n",
       "      <td>8</td>\n",
       "      <td>12</td>\n",
       "      <td>1000</td>\n",
       "      <td>1985</td>\n",
       "      <td>1980</td>\n",
       "    </tr>\n",
       "    <tr>\n",
       "      <th>4</th>\n",
       "      <td>17</td>\n",
       "      <td>4</td>\n",
       "      <td>23</td>\n",
       "      <td>10000</td>\n",
       "      <td>1993</td>\n",
       "      <td>1990</td>\n",
       "    </tr>\n",
       "  </tbody>\n",
       "</table>\n",
       "</div>"
      ],
      "text/plain": [
       "   city08  cylinders  highway08     id  year  decade\n",
       "0      19          4         25      1  1985    1980\n",
       "1       9         12         14     10  1985    1980\n",
       "2      23          4         33    100  1985    1980\n",
       "3      10          8         12   1000  1985    1980\n",
       "4      17          4         23  10000  1993    1990"
      ]
     },
     "execution_count": 40,
     "metadata": {},
     "output_type": "execute_result"
    }
   ],
   "source": [
    "data3.head()"
   ]
  },
  {
   "cell_type": "code",
   "execution_count": 41,
   "metadata": {},
   "outputs": [],
   "source": [
    "# Divide the data into independent and dependent variables\n",
    "X2 = data3.drop([\"decade\"], axis=1)                         # independent variables\n",
    "Y2 = data3[\"decade\"]                                        # dependent variables"
   ]
  },
  {
   "cell_type": "code",
   "execution_count": 42,
   "metadata": {},
   "outputs": [
    {
     "name": "stdout",
     "output_type": "stream",
     "text": [
      "      city08  cylinders  highway08     id  year\n",
      "0         19          4         25      1  1985\n",
      "1          9         12         14     10  1985\n",
      "2         23          4         33    100  1985\n",
      "3         10          8         12   1000  1985\n",
      "4         17          4         23  10000  1993\n",
      "...      ...        ...        ...    ...   ...\n",
      "5995      13          6         18  15395  1999\n",
      "5996      13          8         16  15396  1999\n",
      "5997      12          8         17  15397  1999\n",
      "5998      13          6         15  15398  1999\n",
      "5999      12          8         18  15399  1999\n",
      "\n",
      "[6000 rows x 5 columns]\n",
      "0       1980\n",
      "1       1980\n",
      "2       1980\n",
      "3       1980\n",
      "4       1990\n",
      "        ... \n",
      "5995    1990\n",
      "5996    1990\n",
      "5997    1990\n",
      "5998    1990\n",
      "5999    1990\n",
      "Name: decade, Length: 6000, dtype: int64\n"
     ]
    }
   ],
   "source": [
    "# Print new data\n",
    "print(X2)\n",
    "print(Y2)"
   ]
  },
  {
   "cell_type": "code",
   "execution_count": 43,
   "metadata": {},
   "outputs": [],
   "source": [
    "# Spliting data into training (50%) and test data (50%) sets.\n",
    "x2_train, x2_test, y2_train, y2_test = train_test_split(X2, Y2, test_size=0.5, random_state=1)"
   ]
  },
  {
   "cell_type": "code",
   "execution_count": 44,
   "metadata": {},
   "outputs": [
    {
     "name": "stdout",
     "output_type": "stream",
     "text": [
      "Number of rows in train data = 3000\n",
      "Number of rows in test data = 3000\n",
      "Number of rows in train data = 3000\n",
      "Number of rows in test data = 3000\n"
     ]
    }
   ],
   "source": [
    "# Shape of the train and test sets\n",
    "print(\"Number of rows in train data =\", x2_train.shape[0])\n",
    "print(\"Number of rows in test data =\", x2_test.shape[0])\n",
    "print(\"Number of rows in train data =\", y2_train.shape[0])\n",
    "print(\"Number of rows in test data =\", y2_test.shape[0])"
   ]
  },
  {
   "cell_type": "code",
   "execution_count": 45,
   "metadata": {},
   "outputs": [
    {
     "data": {
      "text/plain": [
       "1.0"
      ]
     },
     "execution_count": 45,
     "metadata": {},
     "output_type": "execute_result"
    }
   ],
   "source": [
    "# Fitting the linear regression model for the training (50%) and test data (50%) sets\n",
    "log_model2 = LogisticRegression(random_state=1)\n",
    "clf2 = log_model2.fit(x2_train,y2_train)\n",
    "clf2.score(x2_train,y2_train)"
   ]
  },
  {
   "cell_type": "code",
   "execution_count": 46,
   "metadata": {},
   "outputs": [
    {
     "name": "stdout",
     "output_type": "stream",
     "text": [
      "List of predicted decades:  [1990 1990 1990 ... 1990 1990 1990]\n",
      "\n",
      "The mean absolute error of the predictor using 50% of test set is:  0.0\n",
      "\n",
      "The mean squared error:  18.233333333333334\n",
      "The error: 18.233333333333334\n"
     ]
    }
   ],
   "source": [
    "y2_predict3 = log_model2.predict(x2_test)\n",
    "print(\"List of predicted decades: \", y2_predict3)\n",
    "mean_ab_error2 = metrics.mean_absolute_error(y2_test, y2_predict3)\n",
    "print()\n",
    "print(\"The mean absolute error of the predictor using 50% of test set is: \", mean_ab_error2)\n",
    "training_error5 = np.mean(np.square(np.array(y2_predict3)-np.array(y2_train)))\n",
    "print()\n",
    "mse = mean_squared_error(y2_train, y2_predict3)\n",
    "print(\"The mean squared error: \", mse)\n",
    "print(\"The error:\", training_error5)"
   ]
  },
  {
   "cell_type": "markdown",
   "metadata": {},
   "source": [
    "The test error is 0.0 and the training error is 18.2."
   ]
  },
  {
   "cell_type": "markdown",
   "metadata": {},
   "source": [
    "From the results above, it confirms that the 2 variables (\"city08\" and \"highwayA08\") that were dropped from data did not affect the model. There was no negative impact or positive impact on the model."
   ]
  }
 ],
 "metadata": {
  "kernelspec": {
   "display_name": "Python 3",
   "language": "python",
   "name": "python3"
  },
  "language_info": {
   "codemirror_mode": {
    "name": "ipython",
    "version": 3
   },
   "file_extension": ".py",
   "mimetype": "text/x-python",
   "name": "python",
   "nbconvert_exporter": "python",
   "pygments_lexer": "ipython3",
   "version": "3.8.5"
  }
 },
 "nbformat": 4,
 "nbformat_minor": 4
}
